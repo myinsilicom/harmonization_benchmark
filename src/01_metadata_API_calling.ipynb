{
 "cells": [
  {
   "cell_type": "markdown",
   "id": "598e51a0",
   "metadata": {},
   "source": [
    "# Insilicom Data Harmonization API calling\n",
    "\n",
    "This notebook demonstrate how to call Insilicom data harmonization API.\n",
    "\n",
    "The input data is json format.\n",
    "\n",
    "Update: 2025-03-20"
   ]
  },
  {
   "cell_type": "markdown",
   "id": "51046e17",
   "metadata": {},
   "source": [
    "## 0. Prep\n",
    "\n",
    "Get API key at https://service.insilicom.com/\n",
    "\n",
    "After register/login, details can be found at https://service.insilicom.com/docs/metadata_normalization."
   ]
  },
  {
   "cell_type": "code",
   "execution_count": 1,
   "id": "36155087-ca9d-43a3-88ad-f43ac8107726",
   "metadata": {},
   "outputs": [],
   "source": [
    "import json\n",
    "import os\n",
    "import requests\n",
    "import tiktoken\n",
    "\n",
    "encoding = tiktoken.encoding_for_model(\"gpt-4o\")\n",
    "\n",
    "imeta_key = os.getenv('IMETA_API_KEY')\n",
    "\n",
    "benchmark_dir = \"/home/jhuang/project/insilicom_harmonization_benchmark\"\n",
    "\n",
    "# Input json file.\n",
    "input_json_path = os.path.join(benchmark_dir, \"data\", \"geo_input_20.json\")\n",
    "\n",
    "# Save all results to a JSON file\n",
    "output_file = os.path.join(benchmark_dir, \"result\", \"api_all_sample_results.json\")\n"
   ]
  },
  {
   "cell_type": "code",
   "execution_count": 2,
   "id": "619244cd",
   "metadata": {},
   "outputs": [],
   "source": [
    "# Wrapper for imeta API\n",
    "def call_data_harmonization_api_v2(input_metadata: list, llm, api_key):\n",
    "    url = \"https://service.insilicom.com/open_api/bdft/v2/metadata_normalization\"\n",
    "    headers = {\n",
    "        'Content-Type': 'application/json',\n",
    "        'X-API-KEY': api_key\n",
    "    }\n",
    "    body = {\n",
    "        'meta_data': json.dumps(dict(input_metadata)),  # Convert batch list to dict for API\n",
    "        'llm_model': llm\n",
    "    }\n",
    "    response = requests.request(\"POST\", url, json=body, headers=headers)\n",
    "    return response"
   ]
  },
  {
   "cell_type": "markdown",
   "id": "a0e46bae",
   "metadata": {},
   "source": [
    "## 1. Load input data"
   ]
  },
  {
   "cell_type": "code",
   "execution_count": 3,
   "id": "7c6fd6d3",
   "metadata": {},
   "outputs": [],
   "source": [
    "# Load input\n",
    "with open(input_json_path, 'r') as file:\n",
    "    luad_data = json.load(file)"
   ]
  },
  {
   "cell_type": "code",
   "execution_count": 4,
   "id": "c611cd4d",
   "metadata": {},
   "outputs": [
    {
     "name": "stdout",
     "output_type": "stream",
     "text": [
      "Example one json item from luad_data:\n",
      "[\n",
      "    \"GSM6928120\",\n",
      "    {\n",
      "        \"title\": [\n",
      "            \"A549 cells,shikonin2\"\n",
      "        ],\n",
      "        \"geo_accession\": [\n",
      "            \"GSM6928120\"\n",
      "        ],\n",
      "        \"status\": [\n",
      "            \"Public on Jan 10 2024\"\n",
      "        ],\n",
      "        \"submission_date\": [\n",
      "            \"Jan 11 2023\"\n",
      "        ],\n",
      "        \"last_update_date\": [\n",
      "            \"Jan 10 2024\"\n",
      "        ],\n",
      "        \"type\": [\n",
      "            \"SRA\"\n",
      "        ],\n",
      "        \"channel_count\": [\n",
      "            \"1\"\n",
      "        ],\n",
      "        \"source_name_ch1\": [\n",
      "            \"cancer cell\"\n",
      "        ],\n",
      "        \"organism_ch1\": [\n",
      "            \"Homo sapiens\"\n",
      "        ],\n",
      "        \"taxid_ch1\": [\n",
      "            \"9606\"\n",
      "        ],\n",
      "        \"tissue\": \"cancer cell\",\n",
      "        \"cell line\": \"A549\",\n",
      "        \"cell type\": \"lung carcinoma cell\",\n",
      "        \"genotype\": \"WT\",\n",
      "        \"treatment\": \"shikonin\",\n",
      "        \"treatment_protocol_ch1\": [\n",
      "            \"A549 Cells were treated with 3\\u03bcm shikonin for 24 hours,then collected cells and dissolved in trizol\"\n",
      "        ],\n",
      "        \"growth_protocol_ch1\": [\n",
      "            \"A549 cells were maintained in 1640 supplemented with 10% fetal bovine serum (FBS) and antibiotics in humidified atmosphere with 5% CO2 at 37C\"\n",
      "        ],\n",
      "        \"molecule_ch1\": [\n",
      "            \"total RNA\"\n",
      "        ],\n",
      "        \"extract_protocol_ch1\": [\n",
      "            \"Total RNA was extracted using chloroform\\u3001isopropanol and washed with ethanol\",\n",
      "            \"RNA libraries for RNA-seq were prepared using SMARTER mRNA-Seq Library Prep Kit following manufacturer's protocols.\"\n",
      "        ],\n",
      "        \"description\": [\n",
      "            \"A549_Shk_Ctrl_diffresult_up.csv\",\n",
      "            \"A549_Shk_Ctrl_diffresult_down.csv\"\n",
      "        ],\n",
      "        \"platform_id\": [\n",
      "            \"GPL16791\"\n",
      "        ],\n",
      "        \"instrument_model\": [\n",
      "            \"Illumina HiSeq 2500\"\n",
      "        ],\n",
      "        \"library_selection\": [\n",
      "            \"cDNA\"\n",
      "        ],\n",
      "        \"library_source\": [\n",
      "            \"transcriptomic\"\n",
      "        ],\n",
      "        \"library_strategy\": [\n",
      "            \"RNA-Seq\"\n",
      "        ],\n",
      "        \"series_id\": [\n",
      "            \"GSE222640\"\n",
      "        ],\n",
      "        \"data_row_count\": [\n",
      "            \"0\"\n",
      "        ]\n",
      "    }\n",
      "]\n"
     ]
    }
   ],
   "source": [
    "# Print one item from luad_data for illustration\n",
    "example_item = next(iter(luad_data.items()))\n",
    "print(\"Example one json item from luad_data:\")\n",
    "\n",
    "print(json.dumps(example_item, indent=4))"
   ]
  },
  {
   "cell_type": "markdown",
   "id": "c29d4ce2",
   "metadata": {},
   "source": [
    "## 2. Divide input into batches\n",
    "\n",
    "Prep batches, 10 samples each batch.\n",
    "\n",
    "Calculate and print the total input tokens for each batch"
   ]
  },
  {
   "cell_type": "code",
   "execution_count": 5,
   "id": "3a0c5de5",
   "metadata": {},
   "outputs": [],
   "source": [
    "# Convert to list of pairs\n",
    "luad_data_items = list(luad_data.items())\n",
    "\n",
    "# Break into batches of 10\n",
    "batch_size = 10\n",
    "\n",
    "luad_data_batches = [luad_data_items[i:i + batch_size] for i in range(0, len(luad_data_items), batch_size)]"
   ]
  },
  {
   "cell_type": "code",
   "execution_count": 6,
   "id": "b2098dbb",
   "metadata": {},
   "outputs": [
    {
     "name": "stdout",
     "output_type": "stream",
     "text": [
      "Batch 1 total input tokens: 10506\n",
      "Batch 2 total input tokens: 5213\n"
     ]
    }
   ],
   "source": [
    "for batch_idx, batch in enumerate(luad_data_batches):\n",
    "\n",
    "    batch_json_str = json.dumps(dict(batch))\n",
    "\n",
    "    batch_tokens = encoding.encode(batch_json_str)\n",
    "    \n",
    "    batch_token_count = len(batch_tokens)\n",
    "    \n",
    "    print(f\"Batch {batch_idx + 1} total input tokens: {batch_token_count}\")"
   ]
  },
  {
   "cell_type": "markdown",
   "id": "cd975666",
   "metadata": {},
   "source": [
    "## 3. Run imeta API.\n",
    "\n",
    "https://service.insilicom.com/docs/metadata_normalization\n",
    "\n",
    "llm=\"GPT\" or \"Claude\".\n",
    "\n",
    "This takes about 2-3mins."
   ]
  },
  {
   "cell_type": "code",
   "execution_count": 7,
   "id": "53dcb81c",
   "metadata": {},
   "outputs": [
    {
     "name": "stdout",
     "output_type": "stream",
     "text": [
      "Batch 1:\n",
      "Number of output tokens in batch 1: 3613\n",
      "Batch 2:\n",
      "Number of output tokens in batch 2: 4231\n"
     ]
    }
   ],
   "source": [
    "# Process batches and combine results\n",
    "combined_results = {}\n",
    "\n",
    "for batch_idx, batch in enumerate(luad_data_batches):\n",
    "    \n",
    "    response = call_data_harmonization_api_v2(batch, llm=\"GPT\", api_key=imeta_key)\n",
    "    \n",
    "    if response.status_code == 200:\n",
    "\n",
    "        out_json = response.json()['Result']\n",
    "\n",
    "        combined_results.update(out_json)  # Merge batch results into a single dict\n",
    "        \n",
    "        \n",
    "        out_json_str = json.dumps(out_json)\n",
    "        tokens = encoding.encode(out_json_str)\n",
    "        token_count = len(tokens)\n",
    "        \n",
    "        print(f\"Batch {batch_idx + 1}:\")\n",
    "\n",
    "        print(f\"Number of output tokens in batch {batch_idx + 1}: {token_count}\")\n",
    "        \n",
    "    else:\n",
    "\n",
    "        print(f\"Batch {batch_idx + 1} failed with Error {response.status_code}: {response.text}\")\n",
    "        \n",
    "        combined_results[f\"batch_{batch_idx + 1}_error\"] = f\"Error {response.status_code}: {response.text}\""
   ]
  },
  {
   "cell_type": "markdown",
   "id": "99e0487f",
   "metadata": {},
   "source": [
    "## 4. Save API result.\n",
    "\n",
    "api_all_sample_results.json"
   ]
  },
  {
   "cell_type": "code",
   "execution_count": 8,
   "id": "a4ce1fbe",
   "metadata": {},
   "outputs": [],
   "source": [
    "for gsm, data in combined_results.items():\n",
    "    if 'gender' in data:\n",
    "        data['sex'] = data.pop('gender')"
   ]
  },
  {
   "cell_type": "code",
   "execution_count": 9,
   "id": "ddcab902",
   "metadata": {},
   "outputs": [
    {
     "name": "stdout",
     "output_type": "stream",
     "text": [
      "All batch results saved to /home/jhuang/project/insilicom_harmonization_benchmark/result/api_all_sample_results.json\n"
     ]
    }
   ],
   "source": [
    "with open(output_file, 'w') as f:\n",
    "    json.dump(combined_results, f, indent=4)\n",
    "\n",
    "print(f\"All batch results saved to {output_file}\")"
   ]
  }
 ],
 "metadata": {
  "kernelspec": {
   "display_name": "jh1",
   "language": "python",
   "name": "python3"
  },
  "language_info": {
   "codemirror_mode": {
    "name": "ipython",
    "version": 3
   },
   "file_extension": ".py",
   "mimetype": "text/x-python",
   "name": "python",
   "nbconvert_exporter": "python",
   "pygments_lexer": "ipython3",
   "version": "3.13.1"
  }
 },
 "nbformat": 4,
 "nbformat_minor": 5
}
