{
 "cells": [
  {
   "cell_type": "markdown",
   "metadata": {},
   "source": [
    "# Metadata Model Alignment Score (MAS) calculation.\n",
    "\n",
    "This script calculate the MAS score for the metadata before and after insilicom harmonization API, as well as the manually curated gold standard. \n",
    "\n",
    "We map the data to [NCI's Genomic Data Commons](https://gdc.cancer.gov/).\n",
    "\n",
    "Date: 2025-04-11\n",
    "\n",
    "\n",
    "The key function is `assess_data_fairness()`. It takes three parameters:\n",
    "\n",
    "1. `input_path`: The path to the csv or json file that you want to calculate MAS score.\n",
    "2. `meta_path`: The required data standard. In this version, we used sixteen required variables from GDC.\n",
    "3. `file_type`: The input file type, either `csv` (user upload) or `json` (from our API output).\n"
   ]
  },
  {
   "cell_type": "markdown",
   "metadata": {},
   "source": [
    "## 0. Prep"
   ]
  },
  {
   "cell_type": "code",
   "execution_count": 9,
   "metadata": {},
   "outputs": [],
   "source": [
    "import json\n",
    "import os\n",
    "import pandas as pd\n",
    "from typing import Dict, List, Tuple, Set\n",
    "from IPython.display import display\n",
    "\n",
    "from utils_fairness import assess_data_fairness"
   ]
  },
  {
   "cell_type": "markdown",
   "metadata": {},
   "source": [
    "## 1. Define file path data.\n",
    "\n",
    "GDC dictionary.\n",
    "\n",
    "GEO raw input json file.\n",
    "\n",
    "Insilicom API harmonized output json file.\n",
    "\n",
    "Gold standard json file."
   ]
  },
  {
   "cell_type": "code",
   "execution_count": 11,
   "metadata": {},
   "outputs": [],
   "source": [
    "benchmark_dir = \"/home/jhuang/project/misc/harmonization_benchmark\"\n",
    "\n",
    "gdc_meta_path = os.path.join(benchmark_dir, \"data\", \"filtered_16_gdc_meta.json\")\n",
    "\n",
    "raw_input_file = os.path.join(benchmark_dir, \"data\", \"geo_input_20.json\")\n",
    "\n",
    "api_output_file = os.path.join(benchmark_dir, \"result\", \"api_all_sample_results.json\")\n",
    "\n",
    "gold_output_file = os.path.join(benchmark_dir, \"data\", \"gold_standard_20.json\")"
   ]
  },
  {
   "cell_type": "markdown",
   "metadata": {},
   "source": [
    "## 2. Convert the raw input and gold standard json file to CSVs."
   ]
  },
  {
   "cell_type": "code",
   "execution_count": 12,
   "metadata": {},
   "outputs": [],
   "source": [
    "with open(raw_input_file, 'r') as file:\n",
    "    luad_data = json.load(file)\n",
    "\n",
    "\n",
    "with open(gold_output_file, 'r') as f:\n",
    "    gold_output = json.load(f)"
   ]
  },
  {
   "cell_type": "code",
   "execution_count": 13,
   "metadata": {},
   "outputs": [
    {
     "name": "stdout",
     "output_type": "stream",
     "text": [
      "The DataFrame 'df_raw' contains 20 samples (rows) and 148 variables (columns).\n"
     ]
    }
   ],
   "source": [
    "# Convert to DataFrame\n",
    "df_raw = pd.DataFrame.from_dict(luad_data, orient=\"index\")\n",
    "\n",
    "print(f\"The DataFrame 'df_raw' contains {df_raw.shape[0]} samples (rows) and {df_raw.shape[1]} variables (columns).\")\n",
    "\n",
    "df_raw.to_csv(os.path.join(benchmark_dir, \"data\", \"geo_input_20.csv\"), index=True)"
   ]
  },
  {
   "cell_type": "code",
   "execution_count": 15,
   "metadata": {},
   "outputs": [
    {
     "name": "stdout",
     "output_type": "stream",
     "text": [
      "The DataFrame 'df_gold' contains 20 samples (rows) and 23 variables (columns).\n"
     ]
    }
   ],
   "source": [
    "# Convert to DataFrame\n",
    "df_gold = pd.DataFrame.from_dict(gold_output, orient=\"index\")\n",
    "df_gold.rename(columns={'gender': 'sex'}, inplace=True)\n",
    "\n",
    "print(f\"The DataFrame 'df_gold' contains {df_gold.shape[0]} samples (rows) and {df_gold.shape[1]} variables (columns).\")\n",
    "\n",
    "df_gold.to_csv(os.path.join(benchmark_dir, \"data\", \"gold_standard_20.csv\"), index=True)"
   ]
  },
  {
   "cell_type": "markdown",
   "metadata": {},
   "source": [
    "## 3. Calculate MAS score for raw input metadata."
   ]
  },
  {
   "cell_type": "code",
   "execution_count": null,
   "metadata": {},
   "outputs": [
    {
     "name": "stdout",
     "output_type": "stream",
     "text": [
      "Counts DataFrame:\n"
     ]
    },
    {
     "data": {
      "text/html": [
       "<style type=\"text/css\">\n",
       "</style>\n",
       "<table id=\"T_cbea1\">\n",
       "  <thead>\n",
       "    <tr>\n",
       "      <th id=\"T_cbea1_level0_col0\" class=\"col_heading level0 col0\" >Variable</th>\n",
       "      <th id=\"T_cbea1_level0_col1\" class=\"col_heading level0 col1\" >Matched counts</th>\n",
       "      <th id=\"T_cbea1_level0_col2\" class=\"col_heading level0 col2\" >Total counts</th>\n",
       "    </tr>\n",
       "  </thead>\n",
       "  <tbody>\n",
       "    <tr>\n",
       "      <td id=\"T_cbea1_row0_col0\" class=\"data row0 col0\" >race</td>\n",
       "      <td id=\"T_cbea1_row0_col1\" class=\"data row0 col1\" >0</td>\n",
       "      <td id=\"T_cbea1_row0_col2\" class=\"data row0 col2\" >20</td>\n",
       "    </tr>\n",
       "    <tr>\n",
       "      <td id=\"T_cbea1_row1_col0\" class=\"data row1 col0\" >sex</td>\n",
       "      <td id=\"T_cbea1_row1_col1\" class=\"data row1 col1\" >1</td>\n",
       "      <td id=\"T_cbea1_row1_col2\" class=\"data row1 col2\" >20</td>\n",
       "    </tr>\n",
       "  </tbody>\n",
       "</table>\n"
      ],
      "text/plain": [
       "<pandas.io.formats.style.Styler at 0x7700ab52b610>"
      ]
     },
     "metadata": {},
     "output_type": "display_data"
    },
    {
     "name": "stdout",
     "output_type": "stream",
     "text": [
      "Fairness Score: 0.003125\n"
     ]
    }
   ],
   "source": [
    "raw_input_file = os.path.join(benchmark_dir, \"data\", \"geo_input_20.csv\")\n",
    "\n",
    "counts_df, fairness_score = assess_data_fairness(input_path = raw_input_file, \n",
    "                                                 meta_path = gdc_meta_path,\n",
    "                                                 file_type = \"csv\")\n",
    "# Display the results\n",
    "print(\"Counts DataFrame:\")\n",
    "display(counts_df.style.hide(axis=\"index\"))\n",
    "print(f\"MAS Score: {fairness_score}\")"
   ]
  },
  {
   "cell_type": "markdown",
   "metadata": {},
   "source": [
    "## 4. Calculate MAS score for API harmonized metadata.\n"
   ]
  },
  {
   "cell_type": "code",
   "execution_count": 17,
   "metadata": {},
   "outputs": [
    {
     "name": "stdout",
     "output_type": "stream",
     "text": [
      "Counts DataFrame:\n"
     ]
    },
    {
     "data": {
      "text/html": [
       "<style type=\"text/css\">\n",
       "</style>\n",
       "<table id=\"T_29a8a\">\n",
       "  <thead>\n",
       "    <tr>\n",
       "      <th id=\"T_29a8a_level0_col0\" class=\"col_heading level0 col0\" >Variable</th>\n",
       "      <th id=\"T_29a8a_level0_col1\" class=\"col_heading level0 col1\" >Matched counts</th>\n",
       "      <th id=\"T_29a8a_level0_col2\" class=\"col_heading level0 col2\" >Total counts</th>\n",
       "    </tr>\n",
       "  </thead>\n",
       "  <tbody>\n",
       "    <tr>\n",
       "      <td id=\"T_29a8a_row0_col0\" class=\"data row0 col0\" >age_at_diagnosis</td>\n",
       "      <td id=\"T_29a8a_row0_col1\" class=\"data row0 col1\" >12</td>\n",
       "      <td id=\"T_29a8a_row0_col2\" class=\"data row0 col2\" >20</td>\n",
       "    </tr>\n",
       "    <tr>\n",
       "      <td id=\"T_29a8a_row1_col0\" class=\"data row1 col0\" >days_to_follow_up</td>\n",
       "      <td id=\"T_29a8a_row1_col1\" class=\"data row1 col1\" >0</td>\n",
       "      <td id=\"T_29a8a_row1_col2\" class=\"data row1 col2\" >20</td>\n",
       "    </tr>\n",
       "    <tr>\n",
       "      <td id=\"T_29a8a_row2_col0\" class=\"data row2 col0\" >disease_type</td>\n",
       "      <td id=\"T_29a8a_row2_col1\" class=\"data row2 col1\" >20</td>\n",
       "      <td id=\"T_29a8a_row2_col2\" class=\"data row2 col2\" >20</td>\n",
       "    </tr>\n",
       "    <tr>\n",
       "      <td id=\"T_29a8a_row3_col0\" class=\"data row3 col0\" >gene_symbol</td>\n",
       "      <td id=\"T_29a8a_row3_col1\" class=\"data row3 col1\" >2</td>\n",
       "      <td id=\"T_29a8a_row3_col2\" class=\"data row3 col2\" >20</td>\n",
       "    </tr>\n",
       "    <tr>\n",
       "      <td id=\"T_29a8a_row4_col0\" class=\"data row4 col0\" >molecular_analysis_method</td>\n",
       "      <td id=\"T_29a8a_row4_col1\" class=\"data row4 col1\" >18</td>\n",
       "      <td id=\"T_29a8a_row4_col2\" class=\"data row4 col2\" >20</td>\n",
       "    </tr>\n",
       "    <tr>\n",
       "      <td id=\"T_29a8a_row5_col0\" class=\"data row5 col0\" >primary_diagnosis</td>\n",
       "      <td id=\"T_29a8a_row5_col1\" class=\"data row5 col1\" >20</td>\n",
       "      <td id=\"T_29a8a_row5_col2\" class=\"data row5 col2\" >20</td>\n",
       "    </tr>\n",
       "    <tr>\n",
       "      <td id=\"T_29a8a_row6_col0\" class=\"data row6 col0\" >primary_site</td>\n",
       "      <td id=\"T_29a8a_row6_col1\" class=\"data row6 col1\" >20</td>\n",
       "      <td id=\"T_29a8a_row6_col2\" class=\"data row6 col2\" >20</td>\n",
       "    </tr>\n",
       "    <tr>\n",
       "      <td id=\"T_29a8a_row7_col0\" class=\"data row7 col0\" >race</td>\n",
       "      <td id=\"T_29a8a_row7_col1\" class=\"data row7 col1\" >1</td>\n",
       "      <td id=\"T_29a8a_row7_col2\" class=\"data row7 col2\" >20</td>\n",
       "    </tr>\n",
       "    <tr>\n",
       "      <td id=\"T_29a8a_row8_col0\" class=\"data row8 col0\" >sex</td>\n",
       "      <td id=\"T_29a8a_row8_col1\" class=\"data row8 col1\" >12</td>\n",
       "      <td id=\"T_29a8a_row8_col2\" class=\"data row8 col2\" >20</td>\n",
       "    </tr>\n",
       "    <tr>\n",
       "      <td id=\"T_29a8a_row9_col0\" class=\"data row9 col0\" >tissue_or_organ_of_origin</td>\n",
       "      <td id=\"T_29a8a_row9_col1\" class=\"data row9 col1\" >20</td>\n",
       "      <td id=\"T_29a8a_row9_col2\" class=\"data row9 col2\" >20</td>\n",
       "    </tr>\n",
       "    <tr>\n",
       "      <td id=\"T_29a8a_row10_col0\" class=\"data row10 col0\" >vital_status</td>\n",
       "      <td id=\"T_29a8a_row10_col1\" class=\"data row10 col1\" >5</td>\n",
       "      <td id=\"T_29a8a_row10_col2\" class=\"data row10 col2\" >20</td>\n",
       "    </tr>\n",
       "  </tbody>\n",
       "</table>\n"
      ],
      "text/plain": [
       "<pandas.io.formats.style.Styler at 0x77008abc5d10>"
      ]
     },
     "metadata": {},
     "output_type": "display_data"
    },
    {
     "name": "stdout",
     "output_type": "stream",
     "text": [
      "Fairness Score: 0.40625\n"
     ]
    }
   ],
   "source": [
    "counts_df, fairness_score = assess_data_fairness(input_path = api_output_file, \n",
    "                                                 meta_path = gdc_meta_path, file_type=\"json\")\n",
    "\n",
    "# Display the results\n",
    "print(\"Counts DataFrame:\")\n",
    "display(counts_df.style.hide(axis=\"index\"))\n",
    "print(f\"Fairness Score: {fairness_score}\")"
   ]
  },
  {
   "cell_type": "markdown",
   "metadata": {},
   "source": [
    "## 5. Calculate MAS score for the manually curated metadata.\n"
   ]
  },
  {
   "cell_type": "code",
   "execution_count": null,
   "metadata": {},
   "outputs": [
    {
     "name": "stdout",
     "output_type": "stream",
     "text": [
      "Counts DataFrame:\n"
     ]
    },
    {
     "data": {
      "text/html": [
       "<style type=\"text/css\">\n",
       "</style>\n",
       "<table id=\"T_3e03a\">\n",
       "  <thead>\n",
       "    <tr>\n",
       "      <th id=\"T_3e03a_level0_col0\" class=\"col_heading level0 col0\" >Variable</th>\n",
       "      <th id=\"T_3e03a_level0_col1\" class=\"col_heading level0 col1\" >Matched counts</th>\n",
       "      <th id=\"T_3e03a_level0_col2\" class=\"col_heading level0 col2\" >Total counts</th>\n",
       "    </tr>\n",
       "  </thead>\n",
       "  <tbody>\n",
       "    <tr>\n",
       "      <td id=\"T_3e03a_row0_col0\" class=\"data row0 col0\" >age_at_diagnosis</td>\n",
       "      <td id=\"T_3e03a_row0_col1\" class=\"data row0 col1\" >12</td>\n",
       "      <td id=\"T_3e03a_row0_col2\" class=\"data row0 col2\" >20</td>\n",
       "    </tr>\n",
       "    <tr>\n",
       "      <td id=\"T_3e03a_row1_col0\" class=\"data row1 col0\" >days_to_follow_up</td>\n",
       "      <td id=\"T_3e03a_row1_col1\" class=\"data row1 col1\" >4</td>\n",
       "      <td id=\"T_3e03a_row1_col2\" class=\"data row1 col2\" >20</td>\n",
       "    </tr>\n",
       "    <tr>\n",
       "      <td id=\"T_3e03a_row2_col0\" class=\"data row2 col0\" >disease_type</td>\n",
       "      <td id=\"T_3e03a_row2_col1\" class=\"data row2 col1\" >19</td>\n",
       "      <td id=\"T_3e03a_row2_col2\" class=\"data row2 col2\" >20</td>\n",
       "    </tr>\n",
       "    <tr>\n",
       "      <td id=\"T_3e03a_row3_col0\" class=\"data row3 col0\" >ethnicity</td>\n",
       "      <td id=\"T_3e03a_row3_col1\" class=\"data row3 col1\" >0</td>\n",
       "      <td id=\"T_3e03a_row3_col2\" class=\"data row3 col2\" >20</td>\n",
       "    </tr>\n",
       "    <tr>\n",
       "      <td id=\"T_3e03a_row4_col0\" class=\"data row4 col0\" >gene_symbol</td>\n",
       "      <td id=\"T_3e03a_row4_col1\" class=\"data row4 col1\" >3</td>\n",
       "      <td id=\"T_3e03a_row4_col2\" class=\"data row4 col2\" >20</td>\n",
       "    </tr>\n",
       "    <tr>\n",
       "      <td id=\"T_3e03a_row5_col0\" class=\"data row5 col0\" >molecular_analysis_method</td>\n",
       "      <td id=\"T_3e03a_row5_col1\" class=\"data row5 col1\" >20</td>\n",
       "      <td id=\"T_3e03a_row5_col2\" class=\"data row5 col2\" >20</td>\n",
       "    </tr>\n",
       "    <tr>\n",
       "      <td id=\"T_3e03a_row6_col0\" class=\"data row6 col0\" >primary_diagnosis</td>\n",
       "      <td id=\"T_3e03a_row6_col1\" class=\"data row6 col1\" >19</td>\n",
       "      <td id=\"T_3e03a_row6_col2\" class=\"data row6 col2\" >20</td>\n",
       "    </tr>\n",
       "    <tr>\n",
       "      <td id=\"T_3e03a_row7_col0\" class=\"data row7 col0\" >primary_site</td>\n",
       "      <td id=\"T_3e03a_row7_col1\" class=\"data row7 col1\" >20</td>\n",
       "      <td id=\"T_3e03a_row7_col2\" class=\"data row7 col2\" >20</td>\n",
       "    </tr>\n",
       "    <tr>\n",
       "      <td id=\"T_3e03a_row8_col0\" class=\"data row8 col0\" >race</td>\n",
       "      <td id=\"T_3e03a_row8_col1\" class=\"data row8 col1\" >1</td>\n",
       "      <td id=\"T_3e03a_row8_col2\" class=\"data row8 col2\" >20</td>\n",
       "    </tr>\n",
       "    <tr>\n",
       "      <td id=\"T_3e03a_row9_col0\" class=\"data row9 col0\" >sex</td>\n",
       "      <td id=\"T_3e03a_row9_col1\" class=\"data row9 col1\" >12</td>\n",
       "      <td id=\"T_3e03a_row9_col2\" class=\"data row9 col2\" >20</td>\n",
       "    </tr>\n",
       "    <tr>\n",
       "      <td id=\"T_3e03a_row10_col0\" class=\"data row10 col0\" >tissue_or_organ_of_origin</td>\n",
       "      <td id=\"T_3e03a_row10_col1\" class=\"data row10 col1\" >20</td>\n",
       "      <td id=\"T_3e03a_row10_col2\" class=\"data row10 col2\" >20</td>\n",
       "    </tr>\n",
       "    <tr>\n",
       "      <td id=\"T_3e03a_row11_col0\" class=\"data row11 col0\" >vital_status</td>\n",
       "      <td id=\"T_3e03a_row11_col1\" class=\"data row11 col1\" >5</td>\n",
       "      <td id=\"T_3e03a_row11_col2\" class=\"data row11 col2\" >20</td>\n",
       "    </tr>\n",
       "  </tbody>\n",
       "</table>\n"
      ],
      "text/plain": [
       "<pandas.io.formats.style.Styler at 0x77009423fc50>"
      ]
     },
     "metadata": {},
     "output_type": "display_data"
    },
    {
     "name": "stdout",
     "output_type": "stream",
     "text": [
      "Fairness Score: 0.421875\n"
     ]
    }
   ],
   "source": [
    "gold_input_file = os.path.join(benchmark_dir, \"data\", \"gold_standard_20.csv\")\n",
    "\n",
    "counts_df, fairness_score = assess_data_fairness(input_path = gold_input_file,\n",
    "                                                 meta_path = gdc_meta_path, file_type=\"csv\")\n",
    "\n",
    "# Display the results\n",
    "print(\"Counts DataFrame:\")\n",
    "display(counts_df.style.hide(axis=\"index\"))\n",
    "print(f\"MAS Score: {fairness_score}\")"
   ]
  }
 ],
 "metadata": {
  "kernelspec": {
   "display_name": "jh1",
   "language": "python",
   "name": "python3"
  },
  "language_info": {
   "codemirror_mode": {
    "name": "ipython",
    "version": 3
   },
   "file_extension": ".py",
   "mimetype": "text/x-python",
   "name": "python",
   "nbconvert_exporter": "python",
   "pygments_lexer": "ipython3",
   "version": "3.13.1"
  }
 },
 "nbformat": 4,
 "nbformat_minor": 2
}
